{
 "cells": [
  {
   "cell_type": "code",
   "execution_count": 1,
   "id": "59582f73",
   "metadata": {},
   "outputs": [],
   "source": [
    "from datasets import load_dataset\n",
    "\n",
    "dataset = load_dataset(\"iluvvatar/RuNNE\", trust_remote_code=True)"
   ]
  },
  {
   "cell_type": "code",
   "execution_count": 2,
   "id": "85c8936e",
   "metadata": {},
   "outputs": [
    {
     "data": {
      "text/html": [
       "<div>\n",
       "<style scoped>\n",
       "    .dataframe tbody tr th:only-of-type {\n",
       "        vertical-align: middle;\n",
       "    }\n",
       "\n",
       "    .dataframe tbody tr th {\n",
       "        vertical-align: top;\n",
       "    }\n",
       "\n",
       "    .dataframe thead th {\n",
       "        text-align: right;\n",
       "    }\n",
       "</style>\n",
       "<table border=\"1\" class=\"dataframe\">\n",
       "  <thead>\n",
       "    <tr style=\"text-align: right;\">\n",
       "      <th></th>\n",
       "      <th>text</th>\n",
       "      <th>entities</th>\n",
       "    </tr>\n",
       "    <tr>\n",
       "      <th>id</th>\n",
       "      <th></th>\n",
       "      <th></th>\n",
       "    </tr>\n",
       "  </thead>\n",
       "  <tbody>\n",
       "    <tr>\n",
       "      <th>0</th>\n",
       "      <td>Ким Чен Нама убили с помощью запрещённого химо...</td>\n",
       "      <td>[0 12 PERSON, 56 72 ORGANIZATION, 64 72 COUNTR...</td>\n",
       "    </tr>\n",
       "    <tr>\n",
       "      <th>1</th>\n",
       "      <td>Смена портретов на долларах\\nГарриет Табмен\\nК...</td>\n",
       "      <td>[19 27 MONEY, 28 42 PERSON, 52 67 MONEY, 68 77...</td>\n",
       "    </tr>\n",
       "    <tr>\n",
       "      <th>2</th>\n",
       "      <td>Новым генсеком ООН станет португалец Гутерреш\\...</td>\n",
       "      <td>[6 14 PROFESSION, 15 18 ORGANIZATION, 26 36 NA...</td>\n",
       "    </tr>\n",
       "    <tr>\n",
       "      <th>3</th>\n",
       "      <td>Вахту принял\\n\\nУоррен Баффет назвал своего по...</td>\n",
       "      <td>[14 27 PERSON, 199 209 DATE, 232 260 PROFESSIO...</td>\n",
       "    </tr>\n",
       "    <tr>\n",
       "      <th>4</th>\n",
       "      <td>В Японии скончался старейший житель Земли — Дз...</td>\n",
       "      <td>[2 8 COUNTRY, 79 96 DATE, 116 122 COUNTRY, 134...</td>\n",
       "    </tr>\n",
       "    <tr>\n",
       "      <th>...</th>\n",
       "      <td>...</td>\n",
       "      <td>...</td>\n",
       "    </tr>\n",
       "    <tr>\n",
       "      <th>836</th>\n",
       "      <td>Электрик руководит социал-демократами Дюссельд...</td>\n",
       "      <td>[0 8 PROFESSION, 68 72 ORGANIZATION, 73 101 TI...</td>\n",
       "    </tr>\n",
       "    <tr>\n",
       "      <th>839</th>\n",
       "      <td>Мужчина женился на тёще\\n\\nРумынский мужчина у...</td>\n",
       "      <td>[25 34 NATIONALITY, 129 138 PERSON, 154 161 CI...</td>\n",
       "    </tr>\n",
       "    <tr>\n",
       "      <th>843</th>\n",
       "      <td>Названы лауреаты премии «World Press Photo»\\nФ...</td>\n",
       "      <td>[61 67 COUNTRY, 68 78 PERSON, 258 286 ORGANIZA...</td>\n",
       "    </tr>\n",
       "    <tr>\n",
       "      <th>866</th>\n",
       "      <td>Первое поражение Серены Уильямс в финале Austr...</td>\n",
       "      <td>[0 6 ORDINAL, 17 31 PERSON, 41 56 EVENT, 57 71...</td>\n",
       "    </tr>\n",
       "    <tr>\n",
       "      <th>891</th>\n",
       "      <td>Аделина Сотникова стала первой\\nАделина Сотник...</td>\n",
       "      <td>[0 17 PERSON, 24 30 ORDINAL, 31 48 PERSON, 49 ...</td>\n",
       "    </tr>\n",
       "  </tbody>\n",
       "</table>\n",
       "<p>461 rows × 2 columns</p>\n",
       "</div>"
      ],
      "text/plain": [
       "                                                  text  \\\n",
       "id                                                       \n",
       "0    Ким Чен Нама убили с помощью запрещённого химо...   \n",
       "1    Смена портретов на долларах\\nГарриет Табмен\\nК...   \n",
       "2    Новым генсеком ООН станет португалец Гутерреш\\...   \n",
       "3    Вахту принял\\n\\nУоррен Баффет назвал своего по...   \n",
       "4    В Японии скончался старейший житель Земли — Дз...   \n",
       "..                                                 ...   \n",
       "836  Электрик руководит социал-демократами Дюссельд...   \n",
       "839  Мужчина женился на тёще\\n\\nРумынский мужчина у...   \n",
       "843  Названы лауреаты премии «World Press Photo»\\nФ...   \n",
       "866  Первое поражение Серены Уильямс в финале Austr...   \n",
       "891  Аделина Сотникова стала первой\\nАделина Сотник...   \n",
       "\n",
       "                                              entities  \n",
       "id                                                      \n",
       "0    [0 12 PERSON, 56 72 ORGANIZATION, 64 72 COUNTR...  \n",
       "1    [19 27 MONEY, 28 42 PERSON, 52 67 MONEY, 68 77...  \n",
       "2    [6 14 PROFESSION, 15 18 ORGANIZATION, 26 36 NA...  \n",
       "3    [14 27 PERSON, 199 209 DATE, 232 260 PROFESSIO...  \n",
       "4    [2 8 COUNTRY, 79 96 DATE, 116 122 COUNTRY, 134...  \n",
       "..                                                 ...  \n",
       "836  [0 8 PROFESSION, 68 72 ORGANIZATION, 73 101 TI...  \n",
       "839  [25 34 NATIONALITY, 129 138 PERSON, 154 161 CI...  \n",
       "843  [61 67 COUNTRY, 68 78 PERSON, 258 286 ORGANIZA...  \n",
       "866  [0 6 ORDINAL, 17 31 PERSON, 41 56 EVENT, 57 71...  \n",
       "891  [0 17 PERSON, 24 30 ORDINAL, 31 48 PERSON, 49 ...  \n",
       "\n",
       "[461 rows x 2 columns]"
      ]
     },
     "execution_count": 2,
     "metadata": {},
     "output_type": "execute_result"
    }
   ],
   "source": [
    "train = dataset['train'].to_pandas().set_index('id')\n",
    "train"
   ]
  },
  {
   "cell_type": "code",
   "execution_count": 48,
   "id": "05b40e17",
   "metadata": {},
   "outputs": [
    {
     "data": {
      "text/plain": [
       "'Ким Чен Нама убили с помощью запрещённого химоружия\\n\\nVX\\nПолиция Малайзии установила вещество, с помощью которого был убит Ким Чен Нам — брат лидера КНДР Ким Чен Ына, — это отравляющее вещество нервно-паралитического действия (VX Nerve Agent), которое является химическим оружием.\\n\\nВ пресс-релизе малайзийской полиции говорится:\\n\\n\\nЦентр анализа химического оружия департамента полиции провёл анализы проб, взятых со слизистой оболочки глаза и лица умершего.\\n\\nВ нём поясняется, что VX причислен к химоружию «Конвенцией о запрещении разработки, производства, накопления и применения химического оружия и о его уничтожении» от 1997 года.\\n\\nПозднее выяснилось, что у одной из подозреваемых в убийстве Ким Чен Нама проявлялись симптомы отравления этим веществом.\\n\\nКим Чен Нам, старший брат лидера КНДР Ким Чен Ына, скончался 13 февраля 2017 года в Малайзии. По предварительным данным, его отравили в аэропорту, когда он направлялся из Малайзии в Макао. По подозрению в причастности к убийству Ким Чен Нама задержаны две девушки — гражданки Вьетнама и Индонезии. Полиция Малайзии считает их непосредственными исполнительницами убийства. Девушки, в свою очередь, утверждают, что им предложили за деньги поучаствовать в розыгрыше.\\n\\n\\n\\n'"
      ]
     },
     "execution_count": 48,
     "metadata": {},
     "output_type": "execute_result"
    }
   ],
   "source": [
    "train.iloc[0]['text']"
   ]
  },
  {
   "cell_type": "code",
   "execution_count": 4,
   "id": "65eafdea",
   "metadata": {},
   "outputs": [
    {
     "data": {
      "text/plain": [
       "array(['0 12 PERSON', '56 72 ORGANIZATION', '64 72 COUNTRY',\n",
       "       '122 133 PERSON', '141 152 PROFESSION', '148 152 COUNTRY',\n",
       "       '153 164 PERSON', '296 308 COUNTRY', '330 362 ORGANIZATION',\n",
       "       '363 383 ORGANIZATION', '620 632 DATE', '695 707 PERSON',\n",
       "       '757 768 PERSON', '783 794 PROFESSION', '790 794 COUNTRY',\n",
       "       '795 806 PERSON', '818 838 DATE', '841 849 COUNTRY',\n",
       "       '928 936 COUNTRY', '939 944 STATE_OR_PROVINCE', '986 998 PERSON',\n",
       "       '1009 1012 NUMBER', '1033 1041 COUNTRY', '1044 1053 COUNTRY',\n",
       "       '1055 1071 ORGANIZATION', '1063 1071 COUNTRY',\n",
       "       '296 316 ORGANIZATION', '506 618 LAW', '13 18 EVENT',\n",
       "       '882 890 EVENT', '977 985 EVENT', '1119 1127 EVENT',\n",
       "       '117 121 EVENT', '686 694 EVENT', '330 383 ORGANIZATION',\n",
       "       '56 63 ORGANIZATION', '309 316 ORGANIZATION', '808 817 EVENT',\n",
       "       '1055 1062 ORGANIZATION'], dtype=object)"
      ]
     },
     "execution_count": 4,
     "metadata": {},
     "output_type": "execute_result"
    }
   ],
   "source": [
    "train.iloc[0]['entities']"
   ]
  },
  {
   "cell_type": "code",
   "execution_count": 5,
   "id": "032f3fc5",
   "metadata": {},
   "outputs": [],
   "source": [
    "from transformers import AutoTokenizer\n",
    "\n",
    "model_checkpoint = \"DeepPavlov/rubert-base-cased\"\n",
    "tokenizer = AutoTokenizer.from_pretrained(model_checkpoint)"
   ]
  },
  {
   "cell_type": "code",
   "execution_count": 11,
   "id": "aab9a5d5",
   "metadata": {},
   "outputs": [
    {
     "data": {
      "text/plain": [
       "['[CLS]',\n",
       " 'Ким',\n",
       " 'Чен',\n",
       " 'Нам',\n",
       " '##а',\n",
       " 'убили',\n",
       " 'с',\n",
       " 'помощью',\n",
       " 'запрещён',\n",
       " '##ного']"
      ]
     },
     "execution_count": 11,
     "metadata": {},
     "output_type": "execute_result"
    }
   ],
   "source": [
    "inputs = tokenizer(dataset[\"train\"][0]['text'], is_split_into_words=False)\n",
    "inputs.tokens()[:10]"
   ]
  },
  {
   "cell_type": "code",
   "execution_count": 1,
   "id": "59d205ad",
   "metadata": {},
   "outputs": [
    {
     "ename": "NameError",
     "evalue": "name 'inputs' is not defined",
     "output_type": "error",
     "traceback": [
      "\u001b[1;31m---------------------------------------------------------------------------\u001b[0m",
      "\u001b[1;31mNameError\u001b[0m                                 Traceback (most recent call last)",
      "Cell \u001b[1;32mIn[1], line 1\u001b[0m\n\u001b[1;32m----> 1\u001b[0m \u001b[43minputs\u001b[49m\u001b[38;5;241m.\u001b[39mword_ids()[:\u001b[38;5;241m10\u001b[39m]\n",
      "\u001b[1;31mNameError\u001b[0m: name 'inputs' is not defined"
     ]
    }
   ],
   "source": [
    "inputs.word_ids()[:10]"
   ]
  },
  {
   "cell_type": "code",
   "execution_count": null,
   "id": "b9531202",
   "metadata": {},
   "outputs": [],
   "source": []
  },
  {
   "cell_type": "code",
   "execution_count": 16,
   "id": "5af4c6fe",
   "metadata": {},
   "outputs": [
    {
     "data": {
      "text/plain": [
       "342.0144"
      ]
     },
     "execution_count": 16,
     "metadata": {},
     "output_type": "execute_result"
    }
   ],
   "source": [
    "29*28*27*26*25*24 / 1e6"
   ]
  },
  {
   "cell_type": "code",
   "execution_count": null,
   "id": "210a0918",
   "metadata": {},
   "outputs": [],
   "source": []
  },
  {
   "cell_type": "code",
   "execution_count": null,
   "id": "7efe4976",
   "metadata": {},
   "outputs": [],
   "source": []
  },
  {
   "cell_type": "code",
   "execution_count": null,
   "id": "d094c350",
   "metadata": {},
   "outputs": [],
   "source": []
  },
  {
   "cell_type": "code",
   "execution_count": null,
   "id": "5c46f29b",
   "metadata": {},
   "outputs": [],
   "source": []
  },
  {
   "cell_type": "code",
   "execution_count": null,
   "id": "55db64fc",
   "metadata": {},
   "outputs": [],
   "source": []
  },
  {
   "cell_type": "code",
   "execution_count": null,
   "id": "a64f7301",
   "metadata": {},
   "outputs": [],
   "source": []
  },
  {
   "cell_type": "code",
   "execution_count": 22,
   "id": "0b8ecf6e",
   "metadata": {},
   "outputs": [
    {
     "name": "stderr",
     "output_type": "stream",
     "text": [
      "100%|█████████████████████████████████████████████████████████████████████████████| 461/461 [00:00<00:00, 10973.00it/s]\n"
     ]
    }
   ],
   "source": [
    "from tqdm import tqdm\n",
    "from collections import defaultdict\n",
    "\n",
    "diffs = defaultdict(int)\n",
    "\n",
    "for _, row in tqdm(train.iterrows(), total=train.shape[0]):\n",
    "    for ner_sample in row['entities']:\n",
    "        bos_idx, eos_idx, ner_class = ner_sample.split()\n",
    "        bos_idx, eos_idx = int(bos_idx), int(eos_idx)\n",
    "        diffs[eos_idx - bos_idx] += 1"
   ]
  },
  {
   "cell_type": "code",
   "execution_count": 26,
   "id": "c6d418d4",
   "metadata": {},
   "outputs": [
    {
     "name": "stdout",
     "output_type": "stream",
     "text": [
      "255 0.004 0.0036045128500883108\n",
      "231 0.004 0.0072090257001766215\n",
      "230 0.004 0.010813538550264932\n",
      "221 0.004 0.014418051400353243\n",
      "220 0.004 0.018022564250441554\n",
      "215 0.004 0.021627077100529864\n",
      "206 0.004 0.025231589950618173\n",
      "196 0.004 0.028836102800706483\n",
      "194 0.004 0.03244061565079479\n",
      "181 0.004 0.0360451285008831\n",
      "169 0.004 0.03964964135097141\n",
      "158 0.004 0.04325415420105972\n",
      "142 0.004 0.04685866705114803\n",
      "130 0.004 0.05046317990123634\n",
      "125 0.004 0.05406769275132465\n",
      "123 0.004 0.05767220560141296\n",
      "122 0.004 0.06127671845150127\n",
      "120 0.007 0.0684857441516779\n",
      "118 0.004 0.0720902570017662\n",
      "117 0.004 0.07569476985185451\n",
      "116 0.004 0.07929928270194282\n",
      "115 0.004 0.08290379555203113\n",
      "112 0.007 0.09011282125220775\n",
      "111 0.004 0.09371733410229606\n",
      "110 0.004 0.09732184695238437\n",
      "109 0.007 0.10453087265256099\n",
      "108 0.004 0.1081353855026493\n",
      "104 0.004 0.11173989835273761\n",
      "103 0.004 0.11534441120282592\n",
      "101 0.004 0.11894892405291423\n",
      "100 0.011 0.12976246260317917\n",
      "99 0.007 0.1369714883033558\n",
      "98 0.007 0.1441805140035324\n",
      "97 0.007 0.15138953970370903\n",
      "96 0.004 0.15499405255379733\n",
      "94 0.004 0.15859856540388564\n",
      "93 0.014 0.17301661680423888\n",
      "91 0.004 0.1766211296543272\n",
      "90 0.004 0.1802256425044155\n",
      "89 0.007 0.18743466820459212\n",
      "86 0.004 0.19103918105468043\n",
      "85 0.018 0.20906174530512198\n",
      "84 0.007 0.2162707710052986\n",
      "83 0.011 0.22708430955556352\n",
      "82 0.007 0.23429333525574014\n",
      "81 0.004 0.23789784810582845\n",
      "80 0.018 0.25592041235627\n",
      "79 0.007 0.2631294380564466\n",
      "78 0.007 0.27033846375662324\n",
      "77 0.004 0.2739429766067116\n",
      "76 0.014 0.2883610280070648\n",
      "75 0.022 0.30998810510759467\n",
      "74 0.011 0.3208016436578596\n",
      "73 0.014 0.33521969505821286\n",
      "72 0.022 0.3568467721587427\n",
      "71 0.014 0.37126482355909596\n",
      "70 0.022 0.3928919006596258\n",
      "69 0.022 0.41451897776015567\n",
      "68 0.043 0.4577731319612154\n",
      "67 0.036 0.4938182604620985\n",
      "66 0.029 0.522654363262805\n",
      "65 0.011 0.5334679018130699\n",
      "64 0.018 0.5514904660635115\n",
      "63 0.047 0.5983491331146595\n",
      "62 0.04 0.6379987744656309\n",
      "61 0.043 0.6812529286666906\n",
      "60 0.036 0.7172980571675738\n",
      "59 0.032 0.7497386728183686\n",
      "58 0.054 0.8038063655696932\n",
      "57 0.04 0.8434560069206646\n",
      "56 0.058 0.9011282125220775\n",
      "55 0.083 0.9840320080741087\n",
      "54 0.043 1.0272861622751686\n",
      "53 0.087 1.113794470677288\n",
      "52 0.068 1.182280214828966\n",
      "51 0.065 1.2471614461305556\n",
      "50 0.072 1.3192517031323219\n",
      "49 0.09 1.4093645243845296\n",
      "48 0.112 1.5211044227372672\n",
      "47 0.09 1.611217243989475\n",
      "46 0.115 1.7265616551923009\n",
      "45 0.112 1.8383015535450384\n",
      "44 0.133 1.9716685289983058\n",
      "43 0.148 2.1194535558519267\n",
      "42 0.173 2.2924701726561656\n",
      "41 0.22 2.5123454565115524\n",
      "40 0.209 2.7214072018166746\n",
      "39 0.242 2.9629095627725914\n",
      "38 0.27 3.233248026529215\n",
      "37 0.274 3.507191003135927\n",
      "36 0.346 3.8532242367444045\n",
      "35 0.346 4.199257470352882\n",
      "34 0.375 4.574126806762067\n",
      "33 0.4 4.974227733121869\n",
      "32 0.407 5.381537685181848\n",
      "31 0.44 5.8212882528926215\n",
      "30 0.555 6.376383231806221\n",
      "29 0.501 6.877410517968496\n",
      "28 0.642 7.5190138052842155\n",
      "27 0.645 8.164221605450024\n",
      "26 0.804 8.968027971019717\n",
      "25 0.714 9.681721515337202\n",
      "24 0.815 10.49634141945716\n",
      "23 1.316 11.811988609739393\n",
      "22 1.254 13.066359081570125\n",
      "21 1.42 14.48653714450492\n",
      "20 1.99 16.476228237753666\n",
      "19 2.249 18.72544425620877\n",
      "18 2.664 21.389179252424032\n",
      "17 3.208 24.59719568900263\n",
      "16 3.165 27.761957971380166\n",
      "15 3.496 31.258335435965826\n",
      "14 3.911 35.16923187831164\n",
      "13 4.304 39.473020221317086\n",
      "12 3.961 43.43437984356414\n",
      "11 6.034 49.46833435461197\n",
      "10 6.38 55.84832209926828\n",
      "9 8.107 63.95487149911689\n",
      "8 6.773 70.72775114443283\n",
      "7 7.544 78.27199653966767\n",
      "6 8.388 86.65969794182317\n",
      "5 3.907 90.5669898713189\n",
      "4 3.514 94.081389900155\n",
      "3 3.457 97.53811772338969\n",
      "2 1.882 99.41967343113579\n",
      "1 0.58 100.00000000000001\n"
     ]
    }
   ],
   "source": [
    "# the simpliest approach, train one classifier text->class and input all possible texts in a range?\n",
    "total_samples = sum(diffs.values())\n",
    "\n",
    "accumulative = 0\n",
    "for key, val in sorted(list(diffs.items()), key=lambda p: -p[0]):\n",
    "    accumulative += val * 100 / total_samples\n",
    "    print(key, round(val * 100 / total_samples, 3), accumulative)"
   ]
  },
  {
   "cell_type": "code",
   "execution_count": null,
   "id": "86b87dc9",
   "metadata": {},
   "outputs": [],
   "source": []
  },
  {
   "cell_type": "code",
   "execution_count": null,
   "id": "0daef355",
   "metadata": {},
   "outputs": [],
   "source": []
  },
  {
   "cell_type": "code",
   "execution_count": null,
   "id": "75fcda6f",
   "metadata": {},
   "outputs": [],
   "source": []
  },
  {
   "cell_type": "code",
   "execution_count": 27,
   "id": "de827484",
   "metadata": {},
   "outputs": [
    {
     "data": {
      "application/vnd.jupyter.widget-view+json": {
       "model_id": "bcb09b3807754bf8a13988632a53ce0f",
       "version_major": 2,
       "version_minor": 0
      },
      "text/plain": [
       "tokenizer_config.json:   0%|          | 0.00/421 [00:00<?, ?B/s]"
      ]
     },
     "metadata": {},
     "output_type": "display_data"
    },
    {
     "data": {
      "application/vnd.jupyter.widget-view+json": {
       "model_id": "c2d2b9f01b854800b38821f60e3d22af",
       "version_major": 2,
       "version_minor": 0
      },
      "text/plain": [
       "sentencepiece.bpe.model:   0%|          | 0.00/5.07M [00:00<?, ?B/s]"
      ]
     },
     "metadata": {},
     "output_type": "display_data"
    },
    {
     "data": {
      "application/vnd.jupyter.widget-view+json": {
       "model_id": "114fb7dc5ab7430082a2a364f26a180c",
       "version_major": 2,
       "version_minor": 0
      },
      "text/plain": [
       "tokenizer.json:   0%|          | 0.00/9.08M [00:00<?, ?B/s]"
      ]
     },
     "metadata": {},
     "output_type": "display_data"
    },
    {
     "data": {
      "application/vnd.jupyter.widget-view+json": {
       "model_id": "8486b46e46c249c1985886ac8b44d642",
       "version_major": 2,
       "version_minor": 0
      },
      "text/plain": [
       "special_tokens_map.json:   0%|          | 0.00/239 [00:00<?, ?B/s]"
      ]
     },
     "metadata": {},
     "output_type": "display_data"
    },
    {
     "data": {
      "application/vnd.jupyter.widget-view+json": {
       "model_id": "f283abd13f2d41f5bc815ab16fad2d34",
       "version_major": 2,
       "version_minor": 0
      },
      "text/plain": [
       "config.json:   0%|          | 0.00/1.01k [00:00<?, ?B/s]"
      ]
     },
     "metadata": {},
     "output_type": "display_data"
    },
    {
     "data": {
      "application/vnd.jupyter.widget-view+json": {
       "model_id": "3bdcdbd1544f4b51a52086860c5a9606",
       "version_major": 2,
       "version_minor": 0
      },
      "text/plain": [
       "pytorch_model.bin:   0%|          | 0.00/2.24G [00:00<?, ?B/s]"
      ]
     },
     "metadata": {},
     "output_type": "display_data"
    }
   ],
   "source": [
    "# Load model directly\n",
    "from transformers import AutoTokenizer, AutoModelForTokenClassification\n",
    "\n",
    "tokenizer = AutoTokenizer.from_pretrained(\"yqelz/xml-roberta-large-ner-russian\")\n",
    "model = AutoModelForTokenClassification.from_pretrained(\"yqelz/xml-roberta-large-ner-russian\")"
   ]
  },
  {
   "cell_type": "code",
   "execution_count": null,
   "id": "31a0a227",
   "metadata": {},
   "outputs": [],
   "source": []
  },
  {
   "cell_type": "code",
   "execution_count": 48,
   "id": "eb73bdf3",
   "metadata": {},
   "outputs": [],
   "source": [
    "import torch\n",
    "\n",
    "inputs = tokenizer('Ким Чен Нама убили с помощью запрещённого химоружия\\n\\nПолиция Малайзии установила вещество', return_tensors=\"pt\")"
   ]
  },
  {
   "cell_type": "code",
   "execution_count": 49,
   "id": "ac56459d",
   "metadata": {},
   "outputs": [],
   "source": [
    "logits = model(**inputs).logits"
   ]
  },
  {
   "cell_type": "code",
   "execution_count": 51,
   "id": "93569f7d",
   "metadata": {},
   "outputs": [
    {
     "data": {
      "text/plain": [
       "''"
      ]
     },
     "execution_count": 51,
     "metadata": {},
     "output_type": "execute_result"
    }
   ],
   "source": [
    "mask_token_index = (inputs.input_ids == tokenizer.mask_token_id)[0].nonzero(as_tuple=True)[0]\n",
    "predicted_token_id = logits[0, mask_token_index].argmax(axis=-1)\n",
    "tokenizer.decode(predicted_token_id)"
   ]
  },
  {
   "cell_type": "code",
   "execution_count": null,
   "id": "89becac9",
   "metadata": {},
   "outputs": [],
   "source": []
  },
  {
   "cell_type": "code",
   "execution_count": 52,
   "id": "9cfa6f59",
   "metadata": {},
   "outputs": [],
   "source": [
    "# Use a pipeline as a high-level helper\n",
    "from transformers import pipeline\n",
    "\n",
    "pipe = pipeline(\"token-classification\", model=\"yqelz/xml-roberta-large-ner-russian\")"
   ]
  },
  {
   "cell_type": "code",
   "execution_count": 70,
   "id": "b3ab8ae5",
   "metadata": {},
   "outputs": [
    {
     "data": {
      "text/plain": [
       "[{'entity': 'B-PER',\n",
       "  'score': 0.8024856,\n",
       "  'index': 1,\n",
       "  'word': '▁Ким',\n",
       "  'start': 0,\n",
       "  'end': 3},\n",
       " {'entity': 'I-PER',\n",
       "  'score': 0.73280287,\n",
       "  'index': 2,\n",
       "  'word': '▁Че',\n",
       "  'start': 4,\n",
       "  'end': 6},\n",
       " {'entity': 'I-PER',\n",
       "  'score': 0.83399314,\n",
       "  'index': 3,\n",
       "  'word': 'н',\n",
       "  'start': 6,\n",
       "  'end': 7},\n",
       " {'entity': 'I-PER',\n",
       "  'score': 0.7271455,\n",
       "  'index': 4,\n",
       "  'word': '▁На',\n",
       "  'start': 8,\n",
       "  'end': 10},\n",
       " {'entity': 'I-PER',\n",
       "  'score': 0.5694821,\n",
       "  'index': 5,\n",
       "  'word': 'ма',\n",
       "  'start': 10,\n",
       "  'end': 12},\n",
       " {'entity': 'B-LOC',\n",
       "  'score': 0.9966641,\n",
       "  'index': 23,\n",
       "  'word': '▁Малайз',\n",
       "  'start': 64,\n",
       "  'end': 70},\n",
       " {'entity': 'I-LOC',\n",
       "  'score': 0.9948118,\n",
       "  'index': 24,\n",
       "  'word': 'ии',\n",
       "  'start': 70,\n",
       "  'end': 72},\n",
       " {'entity': 'B-PER',\n",
       "  'score': 0.88216025,\n",
       "  'index': 35,\n",
       "  'word': '▁Ким',\n",
       "  'start': 122,\n",
       "  'end': 125},\n",
       " {'entity': 'I-PER',\n",
       "  'score': 0.79826176,\n",
       "  'index': 36,\n",
       "  'word': '▁Че',\n",
       "  'start': 126,\n",
       "  'end': 128},\n",
       " {'entity': 'I-PER',\n",
       "  'score': 0.8477307,\n",
       "  'index': 37,\n",
       "  'word': 'н',\n",
       "  'start': 128,\n",
       "  'end': 129},\n",
       " {'entity': 'I-PER',\n",
       "  'score': 0.8326671,\n",
       "  'index': 38,\n",
       "  'word': '▁Нам',\n",
       "  'start': 130,\n",
       "  'end': 133},\n",
       " {'entity': 'I-PER',\n",
       "  'score': 0.5243434,\n",
       "  'index': 43,\n",
       "  'word': 'Н',\n",
       "  'start': 149,\n",
       "  'end': 150},\n",
       " {'entity': 'I-ORG',\n",
       "  'score': 0.34241098,\n",
       "  'index': 44,\n",
       "  'word': 'ДР',\n",
       "  'start': 150,\n",
       "  'end': 152},\n",
       " {'entity': 'B-PER',\n",
       "  'score': 0.9947331,\n",
       "  'index': 45,\n",
       "  'word': '▁Ким',\n",
       "  'start': 153,\n",
       "  'end': 156},\n",
       " {'entity': 'I-PER',\n",
       "  'score': 0.9938753,\n",
       "  'index': 46,\n",
       "  'word': '▁Че',\n",
       "  'start': 157,\n",
       "  'end': 159},\n",
       " {'entity': 'I-PER',\n",
       "  'score': 0.99692327,\n",
       "  'index': 47,\n",
       "  'word': 'н',\n",
       "  'start': 159,\n",
       "  'end': 160},\n",
       " {'entity': 'I-PER',\n",
       "  'score': 0.99576217,\n",
       "  'index': 48,\n",
       "  'word': '▁Ы',\n",
       "  'start': 161,\n",
       "  'end': 162},\n",
       " {'entity': 'I-PER',\n",
       "  'score': 0.9966343,\n",
       "  'index': 49,\n",
       "  'word': 'на',\n",
       "  'start': 162,\n",
       "  'end': 164},\n",
       " {'entity': 'I-ORG',\n",
       "  'score': 0.6495237,\n",
       "  'index': 60,\n",
       "  'word': 'но',\n",
       "  'start': 197,\n",
       "  'end': 199},\n",
       " {'entity': 'I-ORG',\n",
       "  'score': 0.8128341,\n",
       "  'index': 61,\n",
       "  'word': '-',\n",
       "  'start': 199,\n",
       "  'end': 200},\n",
       " {'entity': 'I-ORG',\n",
       "  'score': 0.84018123,\n",
       "  'index': 62,\n",
       "  'word': 'пара',\n",
       "  'start': 200,\n",
       "  'end': 204},\n",
       " {'entity': 'I-ORG',\n",
       "  'score': 0.7415655,\n",
       "  'index': 63,\n",
       "  'word': 'лит',\n",
       "  'start': 204,\n",
       "  'end': 207},\n",
       " {'entity': 'I-ORG',\n",
       "  'score': 0.76764774,\n",
       "  'index': 64,\n",
       "  'word': 'ического',\n",
       "  'start': 207,\n",
       "  'end': 215},\n",
       " {'entity': 'I-ORG',\n",
       "  'score': 0.61409044,\n",
       "  'index': 65,\n",
       "  'word': '▁действия',\n",
       "  'start': 216,\n",
       "  'end': 224},\n",
       " {'entity': 'B-LOC',\n",
       "  'score': 0.77455264,\n",
       "  'index': 85,\n",
       "  'word': '▁мала',\n",
       "  'start': 296,\n",
       "  'end': 300},\n",
       " {'entity': 'I-LOC',\n",
       "  'score': 0.68965346,\n",
       "  'index': 86,\n",
       "  'word': 'й',\n",
       "  'start': 300,\n",
       "  'end': 301},\n",
       " {'entity': 'I-LOC',\n",
       "  'score': 0.6606573,\n",
       "  'index': 87,\n",
       "  'word': 'з',\n",
       "  'start': 301,\n",
       "  'end': 302},\n",
       " {'entity': 'I-LOC',\n",
       "  'score': 0.60672224,\n",
       "  'index': 88,\n",
       "  'word': 'ий',\n",
       "  'start': 302,\n",
       "  'end': 304},\n",
       " {'entity': 'B-ORG',\n",
       "  'score': 0.65195763,\n",
       "  'index': 93,\n",
       "  'word': '▁Центр',\n",
       "  'start': 330,\n",
       "  'end': 335},\n",
       " {'entity': 'I-ORG',\n",
       "  'score': 0.51860297,\n",
       "  'index': 94,\n",
       "  'word': '▁анализа',\n",
       "  'start': 336,\n",
       "  'end': 343},\n",
       " {'entity': 'I-ORG',\n",
       "  'score': 0.63321394,\n",
       "  'index': 95,\n",
       "  'word': '▁химическо',\n",
       "  'start': 344,\n",
       "  'end': 353},\n",
       " {'entity': 'I-ORG',\n",
       "  'score': 0.88957614,\n",
       "  'index': 96,\n",
       "  'word': 'го',\n",
       "  'start': 353,\n",
       "  'end': 355},\n",
       " {'entity': 'I-ORG',\n",
       "  'score': 0.672648,\n",
       "  'index': 97,\n",
       "  'word': '▁оружия',\n",
       "  'start': 356,\n",
       "  'end': 362},\n",
       " {'entity': 'B-ORG',\n",
       "  'score': 0.7429874,\n",
       "  'index': 98,\n",
       "  'word': '▁департамент',\n",
       "  'start': 363,\n",
       "  'end': 374},\n",
       " {'entity': 'I-ORG',\n",
       "  'score': 0.8636839,\n",
       "  'index': 99,\n",
       "  'word': 'а',\n",
       "  'start': 374,\n",
       "  'end': 375},\n",
       " {'entity': 'I-ORG',\n",
       "  'score': 0.6488784,\n",
       "  'index': 100,\n",
       "  'word': '▁полиции',\n",
       "  'start': 376,\n",
       "  'end': 383},\n",
       " {'entity': 'B-ORG',\n",
       "  'score': 0.9761747,\n",
       "  'index': 140,\n",
       "  'word': '▁«',\n",
       "  'start': 505,\n",
       "  'end': 506},\n",
       " {'entity': 'I-ORG',\n",
       "  'score': 0.9245168,\n",
       "  'index': 141,\n",
       "  'word': 'Кон',\n",
       "  'start': 506,\n",
       "  'end': 509},\n",
       " {'entity': 'I-ORG',\n",
       "  'score': 0.9810315,\n",
       "  'index': 142,\n",
       "  'word': 'венци',\n",
       "  'start': 509,\n",
       "  'end': 514},\n",
       " {'entity': 'I-ORG',\n",
       "  'score': 0.98668426,\n",
       "  'index': 143,\n",
       "  'word': 'ей',\n",
       "  'start': 514,\n",
       "  'end': 516},\n",
       " {'entity': 'I-ORG',\n",
       "  'score': 0.9839416,\n",
       "  'index': 144,\n",
       "  'word': '▁о',\n",
       "  'start': 517,\n",
       "  'end': 518},\n",
       " {'entity': 'I-ORG',\n",
       "  'score': 0.97933084,\n",
       "  'index': 145,\n",
       "  'word': '▁запрещен',\n",
       "  'start': 519,\n",
       "  'end': 527},\n",
       " {'entity': 'I-ORG',\n",
       "  'score': 0.9940899,\n",
       "  'index': 146,\n",
       "  'word': 'ии',\n",
       "  'start': 527,\n",
       "  'end': 529},\n",
       " {'entity': 'I-ORG',\n",
       "  'score': 0.9756604,\n",
       "  'index': 147,\n",
       "  'word': '▁разработки',\n",
       "  'start': 530,\n",
       "  'end': 540},\n",
       " {'entity': 'I-ORG',\n",
       "  'score': 0.99389136,\n",
       "  'index': 148,\n",
       "  'word': ',',\n",
       "  'start': 540,\n",
       "  'end': 541},\n",
       " {'entity': 'I-ORG',\n",
       "  'score': 0.968701,\n",
       "  'index': 149,\n",
       "  'word': '▁производства',\n",
       "  'start': 542,\n",
       "  'end': 554},\n",
       " {'entity': 'I-ORG',\n",
       "  'score': 0.9860239,\n",
       "  'index': 150,\n",
       "  'word': ',',\n",
       "  'start': 554,\n",
       "  'end': 555},\n",
       " {'entity': 'I-ORG',\n",
       "  'score': 0.9526185,\n",
       "  'index': 151,\n",
       "  'word': '▁накоплен',\n",
       "  'start': 556,\n",
       "  'end': 564},\n",
       " {'entity': 'I-ORG',\n",
       "  'score': 0.99463636,\n",
       "  'index': 152,\n",
       "  'word': 'ия',\n",
       "  'start': 564,\n",
       "  'end': 566},\n",
       " {'entity': 'I-ORG',\n",
       "  'score': 0.9913015,\n",
       "  'index': 153,\n",
       "  'word': '▁и',\n",
       "  'start': 567,\n",
       "  'end': 568},\n",
       " {'entity': 'I-ORG',\n",
       "  'score': 0.97094554,\n",
       "  'index': 154,\n",
       "  'word': '▁применения',\n",
       "  'start': 569,\n",
       "  'end': 579},\n",
       " {'entity': 'I-ORG',\n",
       "  'score': 0.979627,\n",
       "  'index': 155,\n",
       "  'word': '▁химическо',\n",
       "  'start': 580,\n",
       "  'end': 589},\n",
       " {'entity': 'I-ORG',\n",
       "  'score': 0.9970482,\n",
       "  'index': 156,\n",
       "  'word': 'го',\n",
       "  'start': 589,\n",
       "  'end': 591},\n",
       " {'entity': 'I-ORG',\n",
       "  'score': 0.9937837,\n",
       "  'index': 157,\n",
       "  'word': '▁оружия',\n",
       "  'start': 592,\n",
       "  'end': 598},\n",
       " {'entity': 'I-ORG',\n",
       "  'score': 0.99101514,\n",
       "  'index': 158,\n",
       "  'word': '▁и',\n",
       "  'start': 599,\n",
       "  'end': 600},\n",
       " {'entity': 'I-ORG',\n",
       "  'score': 0.98176366,\n",
       "  'index': 159,\n",
       "  'word': '▁о',\n",
       "  'start': 601,\n",
       "  'end': 602},\n",
       " {'entity': 'I-ORG',\n",
       "  'score': 0.9931779,\n",
       "  'index': 160,\n",
       "  'word': '▁его',\n",
       "  'start': 603,\n",
       "  'end': 606},\n",
       " {'entity': 'I-ORG',\n",
       "  'score': 0.991683,\n",
       "  'index': 161,\n",
       "  'word': '▁уничтожен',\n",
       "  'start': 607,\n",
       "  'end': 616},\n",
       " {'entity': 'I-ORG',\n",
       "  'score': 0.99534506,\n",
       "  'index': 162,\n",
       "  'word': 'ии',\n",
       "  'start': 616,\n",
       "  'end': 618},\n",
       " {'entity': 'I-ORG',\n",
       "  'score': 0.9921302,\n",
       "  'index': 163,\n",
       "  'word': '»',\n",
       "  'start': 618,\n",
       "  'end': 619},\n",
       " {'entity': 'I-ORG',\n",
       "  'score': 0.97958595,\n",
       "  'index': 164,\n",
       "  'word': '▁от',\n",
       "  'start': 620,\n",
       "  'end': 622},\n",
       " {'entity': 'I-ORG',\n",
       "  'score': 0.979246,\n",
       "  'index': 165,\n",
       "  'word': '▁1997',\n",
       "  'start': 623,\n",
       "  'end': 627},\n",
       " {'entity': 'I-ORG',\n",
       "  'score': 0.9876708,\n",
       "  'index': 166,\n",
       "  'word': '▁года',\n",
       "  'start': 628,\n",
       "  'end': 632},\n",
       " {'entity': 'B-PER',\n",
       "  'score': 0.4817141,\n",
       "  'index': 186,\n",
       "  'word': '▁Ким',\n",
       "  'start': 695,\n",
       "  'end': 698},\n",
       " {'entity': 'I-PER',\n",
       "  'score': 0.49420768,\n",
       "  'index': 187,\n",
       "  'word': '▁Че',\n",
       "  'start': 699,\n",
       "  'end': 701},\n",
       " {'entity': 'I-PER',\n",
       "  'score': 0.67216086,\n",
       "  'index': 188,\n",
       "  'word': 'н',\n",
       "  'start': 701,\n",
       "  'end': 702},\n",
       " {'entity': 'I-PER',\n",
       "  'score': 0.5403975,\n",
       "  'index': 189,\n",
       "  'word': '▁На',\n",
       "  'start': 703,\n",
       "  'end': 705},\n",
       " {'entity': 'B-PER',\n",
       "  'score': 0.9626935,\n",
       "  'index': 203,\n",
       "  'word': '▁Ким',\n",
       "  'start': 757,\n",
       "  'end': 760},\n",
       " {'entity': 'I-PER',\n",
       "  'score': 0.90356517,\n",
       "  'index': 204,\n",
       "  'word': '▁Че',\n",
       "  'start': 761,\n",
       "  'end': 763},\n",
       " {'entity': 'I-PER',\n",
       "  'score': 0.9284429,\n",
       "  'index': 205,\n",
       "  'word': 'н',\n",
       "  'start': 763,\n",
       "  'end': 764},\n",
       " {'entity': 'I-PER',\n",
       "  'score': 0.88873804,\n",
       "  'index': 206,\n",
       "  'word': '▁Нам',\n",
       "  'start': 765,\n",
       "  'end': 768},\n",
       " {'entity': 'B-ORG',\n",
       "  'score': 0.71279204,\n",
       "  'index': 212,\n",
       "  'word': '▁К',\n",
       "  'start': 790,\n",
       "  'end': 791},\n",
       " {'entity': 'I-ORG',\n",
       "  'score': 0.4575594,\n",
       "  'index': 213,\n",
       "  'word': 'Н',\n",
       "  'start': 791,\n",
       "  'end': 792},\n",
       " {'entity': 'I-ORG',\n",
       "  'score': 0.54952943,\n",
       "  'index': 214,\n",
       "  'word': 'ДР',\n",
       "  'start': 792,\n",
       "  'end': 794},\n",
       " {'entity': 'B-PER',\n",
       "  'score': 0.9872565,\n",
       "  'index': 215,\n",
       "  'word': '▁Ким',\n",
       "  'start': 795,\n",
       "  'end': 798},\n",
       " {'entity': 'I-PER',\n",
       "  'score': 0.9866196,\n",
       "  'index': 216,\n",
       "  'word': '▁Че',\n",
       "  'start': 799,\n",
       "  'end': 801},\n",
       " {'entity': 'I-PER',\n",
       "  'score': 0.9930561,\n",
       "  'index': 217,\n",
       "  'word': 'н',\n",
       "  'start': 801,\n",
       "  'end': 802},\n",
       " {'entity': 'I-PER',\n",
       "  'score': 0.9931471,\n",
       "  'index': 218,\n",
       "  'word': '▁Ы',\n",
       "  'start': 803,\n",
       "  'end': 804},\n",
       " {'entity': 'I-PER',\n",
       "  'score': 0.99170446,\n",
       "  'index': 219,\n",
       "  'word': 'на',\n",
       "  'start': 804,\n",
       "  'end': 806},\n",
       " {'entity': 'B-LOC',\n",
       "  'score': 0.99870586,\n",
       "  'index': 230,\n",
       "  'word': '▁Малайз',\n",
       "  'start': 841,\n",
       "  'end': 847},\n",
       " {'entity': 'I-LOC',\n",
       "  'score': 0.99814487,\n",
       "  'index': 231,\n",
       "  'word': 'ии',\n",
       "  'start': 847,\n",
       "  'end': 849},\n",
       " {'entity': 'B-LOC',\n",
       "  'score': 0.9979304,\n",
       "  'index': 252,\n",
       "  'word': '▁Малайз',\n",
       "  'start': 928,\n",
       "  'end': 934},\n",
       " {'entity': 'I-LOC',\n",
       "  'score': 0.9973793,\n",
       "  'index': 253,\n",
       "  'word': 'ии',\n",
       "  'start': 934,\n",
       "  'end': 936},\n",
       " {'entity': 'B-LOC',\n",
       "  'score': 0.997463,\n",
       "  'index': 255,\n",
       "  'word': '▁Ма',\n",
       "  'start': 939,\n",
       "  'end': 941},\n",
       " {'entity': 'I-LOC',\n",
       "  'score': 0.99091774,\n",
       "  'index': 256,\n",
       "  'word': 'као',\n",
       "  'start': 941,\n",
       "  'end': 944},\n",
       " {'entity': 'B-LOC',\n",
       "  'score': 0.9966988,\n",
       "  'index': 282,\n",
       "  'word': '▁Вьетнам',\n",
       "  'start': 1033,\n",
       "  'end': 1040},\n",
       " {'entity': 'I-LOC',\n",
       "  'score': 0.99738926,\n",
       "  'index': 283,\n",
       "  'word': 'а',\n",
       "  'start': 1040,\n",
       "  'end': 1041},\n",
       " {'entity': 'B-LOC',\n",
       "  'score': 0.99628794,\n",
       "  'index': 285,\n",
       "  'word': '▁Индонези',\n",
       "  'start': 1044,\n",
       "  'end': 1052},\n",
       " {'entity': 'I-LOC',\n",
       "  'score': 0.99674916,\n",
       "  'index': 286,\n",
       "  'word': 'и',\n",
       "  'start': 1052,\n",
       "  'end': 1053},\n",
       " {'entity': 'B-LOC',\n",
       "  'score': 0.9950964,\n",
       "  'index': 290,\n",
       "  'word': '▁Малайз',\n",
       "  'start': 1063,\n",
       "  'end': 1069},\n",
       " {'entity': 'I-LOC',\n",
       "  'score': 0.99536824,\n",
       "  'index': 291,\n",
       "  'word': 'ии',\n",
       "  'start': 1069,\n",
       "  'end': 1071}]"
      ]
     },
     "execution_count": 70,
     "metadata": {},
     "output_type": "execute_result"
    }
   ],
   "source": [
    "res = pipe(train.iloc[0]['text'])\n",
    "res"
   ]
  },
  {
   "cell_type": "code",
   "execution_count": 71,
   "id": "802f12db",
   "metadata": {},
   "outputs": [],
   "source": [
    "def simplify_res(output: list[dict]) -> list[str]:\n",
    "    output = output.copy()\n",
    "    output.append({\n",
    "        'entity': 'B-END',\n",
    "        'index': int(1e9),\n",
    "        'word': '',\n",
    "        'start': int(1e9),\n",
    "        'end': int(1e9)\n",
    "    })\n",
    "    \n",
    "    start = output[0]['start']\n",
    "    end = output[0]['end']\n",
    "    word = output[0]['word']\n",
    "    \n",
    "    ans = []\n",
    "    for i in range(1, len(output)):\n",
    "        if output[i]['entity'].startswith('I'):\n",
    "            end = output[i]['end']\n",
    "            word += output[i]['word']\n",
    "        else:\n",
    "            ans.append(f\"{start} {end} {output[i-1]['entity']} {word}\")\n",
    "            \n",
    "            start = output[i]['start']\n",
    "            end = output[i]['end']\n",
    "            word = output[i]['word']\n",
    "    \n",
    "    return ans\n",
    "            \n",
    "            \n",
    "            "
   ]
  },
  {
   "cell_type": "code",
   "execution_count": 72,
   "id": "a372f1f6",
   "metadata": {},
   "outputs": [
    {
     "data": {
      "text/plain": [
       "['0 12 I-PER ▁Ким▁Чен▁Нама',\n",
       " '64 72 I-LOC ▁Малайзии',\n",
       " '122 152 I-ORG ▁Ким▁Чен▁НамНДР',\n",
       " '153 224 I-ORG ▁Ким▁Чен▁Ынано-паралитического▁действия',\n",
       " '296 304 I-LOC ▁малайзий',\n",
       " '330 362 I-ORG ▁Центр▁анализа▁химического▁оружия',\n",
       " '363 383 I-ORG ▁департамента▁полиции',\n",
       " '505 632 I-ORG ▁«Конвенцией▁о▁запрещении▁разработки,▁производства,▁накопления▁и▁применения▁химического▁оружия▁и▁о▁его▁уничтожении»▁от▁1997▁года',\n",
       " '695 705 I-PER ▁Ким▁Чен▁На',\n",
       " '757 768 I-PER ▁Ким▁Чен▁Нам',\n",
       " '790 794 I-ORG ▁КНДР',\n",
       " '795 806 I-PER ▁Ким▁Чен▁Ына',\n",
       " '841 849 I-LOC ▁Малайзии',\n",
       " '928 936 I-LOC ▁Малайзии',\n",
       " '939 944 I-LOC ▁Макао',\n",
       " '1033 1041 I-LOC ▁Вьетнама',\n",
       " '1044 1053 I-LOC ▁Индонезии',\n",
       " '1063 1071 I-LOC ▁Малайзии']"
      ]
     },
     "execution_count": 72,
     "metadata": {},
     "output_type": "execute_result"
    }
   ],
   "source": [
    "simplify_res(res)"
   ]
  },
  {
   "cell_type": "code",
   "execution_count": 73,
   "id": "a07ecdf8",
   "metadata": {},
   "outputs": [
    {
     "data": {
      "text/plain": [
       "array(['0 12 PERSON', '56 72 ORGANIZATION', '64 72 COUNTRY',\n",
       "       '122 133 PERSON', '141 152 PROFESSION', '148 152 COUNTRY',\n",
       "       '153 164 PERSON', '296 308 COUNTRY', '330 362 ORGANIZATION',\n",
       "       '363 383 ORGANIZATION', '620 632 DATE', '695 707 PERSON',\n",
       "       '757 768 PERSON', '783 794 PROFESSION', '790 794 COUNTRY',\n",
       "       '795 806 PERSON', '818 838 DATE', '841 849 COUNTRY',\n",
       "       '928 936 COUNTRY', '939 944 STATE_OR_PROVINCE', '986 998 PERSON',\n",
       "       '1009 1012 NUMBER', '1033 1041 COUNTRY', '1044 1053 COUNTRY',\n",
       "       '1055 1071 ORGANIZATION', '1063 1071 COUNTRY',\n",
       "       '296 316 ORGANIZATION', '506 618 LAW', '13 18 EVENT',\n",
       "       '882 890 EVENT', '977 985 EVENT', '1119 1127 EVENT',\n",
       "       '117 121 EVENT', '686 694 EVENT', '330 383 ORGANIZATION',\n",
       "       '56 63 ORGANIZATION', '309 316 ORGANIZATION', '808 817 EVENT',\n",
       "       '1055 1062 ORGANIZATION'], dtype=object)"
      ]
     },
     "execution_count": 73,
     "metadata": {},
     "output_type": "execute_result"
    }
   ],
   "source": [
    "train.iloc[0]['entities']"
   ]
  },
  {
   "cell_type": "code",
   "execution_count": null,
   "id": "1ab94683",
   "metadata": {},
   "outputs": [],
   "source": []
  },
  {
   "cell_type": "code",
   "execution_count": null,
   "id": "5248aa72",
   "metadata": {},
   "outputs": [],
   "source": []
  },
  {
   "cell_type": "code",
   "execution_count": 21,
   "id": "600da21a",
   "metadata": {},
   "outputs": [
    {
     "name": "stderr",
     "output_type": "stream",
     "text": [
      "Some weights of the model checkpoint at DeepPavlov/rubert-base-cased were not used when initializing BertModel: ['cls.seq_relationship.bias', 'cls.seq_relationship.weight', 'cls.predictions.transform.LayerNorm.weight', 'cls.predictions.transform.LayerNorm.bias', 'cls.predictions.decoder.weight', 'cls.predictions.transform.dense.bias', 'cls.predictions.bias', 'cls.predictions.transform.dense.weight', 'cls.predictions.decoder.bias']\n",
      "- This IS expected if you are initializing BertModel from the checkpoint of a model trained on another task or with another architecture (e.g. initializing a BertForSequenceClassification model from a BertForPreTraining model).\n",
      "- This IS NOT expected if you are initializing BertModel from the checkpoint of a model that you expect to be exactly identical (initializing a BertForSequenceClassification model from a BertForSequenceClassification model).\n"
     ]
    }
   ],
   "source": [
    "# Load model directly\n",
    "from transformers import AutoTokenizer, AutoModel\n",
    "\n",
    "tokenizer = AutoTokenizer.from_pretrained(\"DeepPavlov/rubert-base-cased\")\n",
    "model = AutoModel.from_pretrained(\"DeepPavlov/rubert-base-cased\")"
   ]
  },
  {
   "cell_type": "code",
   "execution_count": null,
   "id": "b75ddc9c",
   "metadata": {},
   "outputs": [],
   "source": []
  },
  {
   "cell_type": "code",
   "execution_count": null,
   "id": "c9c39062",
   "metadata": {},
   "outputs": [],
   "source": []
  },
  {
   "cell_type": "code",
   "execution_count": 44,
   "id": "62dd7eb9",
   "metadata": {},
   "outputs": [
    {
     "data": {
      "text/plain": [
       "torch.Size([2, 12, 768])"
      ]
     },
     "execution_count": 44,
     "metadata": {},
     "output_type": "execute_result"
    }
   ],
   "source": [
    "input_idxs = tokenizer(['я люблю когда голые волосатые мужики сосут', 'котята это вау'], \n",
    "                       return_tensors=\"pt\", padding=True, truncation=True, max_length=256)\n",
    "input_idxs\n",
    "output = model(**input_idxs)['last_hidden_state']\n",
    "output.shape"
   ]
  },
  {
   "cell_type": "code",
   "execution_count": 45,
   "id": "83fc532f",
   "metadata": {},
   "outputs": [
    {
     "data": {
      "text/plain": [
       "torch.Size([2, 12, 768])"
      ]
     },
     "execution_count": 45,
     "metadata": {},
     "output_type": "execute_result"
    }
   ],
   "source": [
    "output.shape"
   ]
  },
  {
   "cell_type": "code",
   "execution_count": null,
   "id": "405a88f2",
   "metadata": {},
   "outputs": [],
   "source": []
  },
  {
   "cell_type": "code",
   "execution_count": 39,
   "id": "fc23f23b",
   "metadata": {},
   "outputs": [
    {
     "data": {
      "text/plain": [
       "tensor([[  101,   877, 49775,  5318, 48581, 21595, 24129,  5891,  3437,   102],\n",
       "        [  101, 16022, 21295,  3998, 12962,   876,   102,     0,     0,     0]])"
      ]
     },
     "execution_count": 39,
     "metadata": {},
     "output_type": "execute_result"
    }
   ],
   "source": [
    "input_idxs['input_ids']"
   ]
  },
  {
   "cell_type": "code",
   "execution_count": null,
   "id": "4051bb3d",
   "metadata": {},
   "outputs": [],
   "source": []
  },
  {
   "cell_type": "code",
   "execution_count": null,
   "id": "18999623",
   "metadata": {},
   "outputs": [],
   "source": []
  },
  {
   "cell_type": "code",
   "execution_count": null,
   "id": "b3c857cc",
   "metadata": {},
   "outputs": [],
   "source": []
  },
  {
   "cell_type": "code",
   "execution_count": null,
   "id": "8a991603",
   "metadata": {},
   "outputs": [],
   "source": []
  },
  {
   "cell_type": "code",
   "execution_count": null,
   "id": "b65872ca",
   "metadata": {},
   "outputs": [],
   "source": []
  },
  {
   "cell_type": "code",
   "execution_count": null,
   "id": "942c77c8",
   "metadata": {},
   "outputs": [],
   "source": []
  }
 ],
 "metadata": {
  "kernelspec": {
   "display_name": "Python 3 (ipykernel)",
   "language": "python",
   "name": "python3"
  },
  "language_info": {
   "codemirror_mode": {
    "name": "ipython",
    "version": 3
   },
   "file_extension": ".py",
   "mimetype": "text/x-python",
   "name": "python",
   "nbconvert_exporter": "python",
   "pygments_lexer": "ipython3",
   "version": "3.9.6"
  }
 },
 "nbformat": 4,
 "nbformat_minor": 5
}
